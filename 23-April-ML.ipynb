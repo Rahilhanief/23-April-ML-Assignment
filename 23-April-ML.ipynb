{
 "cells": [
  {
   "cell_type": "code",
   "execution_count": 1,
   "id": "6b9be7d6-a64e-4ec3-be90-d927d11049b6",
   "metadata": {},
   "outputs": [
    {
     "data": {
      "text/plain": [
       "'\\nThe curse of dimensionality basically means that the error increases with the increase in the number of features.\\nIt refers to the fact that algorithms are harder to design in high dimensions and often have a running time\\nexponential in the dimensions.\\n\\nAs the dimensionality increases, the number of data points required for good performance of any machine \\nlearning algorithm increases exponentially. The reason is that, we would need more number of data points \\nfor any given combination of features, for any machine learning model to be valid.\\n'"
      ]
     },
     "execution_count": 1,
     "metadata": {},
     "output_type": "execute_result"
    }
   ],
   "source": [
    "## Q No. 1 :\n",
    "\"\"\"\n",
    "The curse of dimensionality basically means that the error increases with the increase in the number of features.\n",
    "It refers to the fact that algorithms are harder to design in high dimensions and often have a running time\n",
    "exponential in the dimensions.\n",
    "\n",
    "As the dimensionality increases, the number of data points required for good performance of any machine \n",
    "learning algorithm increases exponentially. The reason is that, we would need more number of data points \n",
    "for any given combination of features, for any machine learning model to be valid.\n",
    "\"\"\""
   ]
  },
  {
   "cell_type": "code",
   "execution_count": 2,
   "id": "a294147f-2578-4a41-ac80-f8ff4c65f06d",
   "metadata": {},
   "outputs": [
    {
     "data": {
      "text/plain": [
       "'\\nAs the number of dimensions or features increases, the amount of data needed to generalize\\nthe machine learning model accurately increases exponentially.\\nThe increase in dimensions makes the data sparse, and it increases the difficulty of generalizing the model.\\n'"
      ]
     },
     "execution_count": 2,
     "metadata": {},
     "output_type": "execute_result"
    }
   ],
   "source": [
    "## Q No. 2 :\n",
    "\"\"\"\n",
    "As the number of dimensions or features increases, the amount of data needed to generalize\n",
    "the machine learning model accurately increases exponentially.\n",
    "The increase in dimensions makes the data sparse, and it increases the difficulty of generalizing the model.\n",
    "\"\"\""
   ]
  },
  {
   "cell_type": "code",
   "execution_count": 3,
   "id": "af8cf686-60e7-420b-84f7-b60339807d8a",
   "metadata": {},
   "outputs": [
    {
     "data": {
      "text/plain": [
       "'\\nWith the increase in the data dimensions, your model –\\n\\nwould also increase in complexity.\\nwould become increasingly dependent on the data it is being trained on.\\nThis leads to overfitting of the model, so even though the model performs really well on training data, \\nit fails drastically on any real data.\\n'"
      ]
     },
     "execution_count": 3,
     "metadata": {},
     "output_type": "execute_result"
    }
   ],
   "source": [
    "## Q No. 3 :\n",
    "\"\"\"\n",
    "With the increase in the data dimensions, your model –\n",
    "\n",
    "would also increase in complexity.\n",
    "would become increasingly dependent on the data it is being trained on.\n",
    "This leads to overfitting of the model, so even though the model performs really well on training data, \n",
    "it fails drastically on any real data.\n",
    "\"\"\""
   ]
  },
  {
   "cell_type": "code",
   "execution_count": 4,
   "id": "2ec84215-4649-42ee-9c09-4dd28a2410db",
   "metadata": {},
   "outputs": [
    {
     "data": {
      "text/plain": [
       "'\\nFeature Selection is the method of reducing the input variable to your model by using only relevant data \\nand getting rid of noise in data. It is the process of automatically choosing relevant features for your \\nmachine learning model based on the type of problem you are trying to solve.\\n'"
      ]
     },
     "execution_count": 4,
     "metadata": {},
     "output_type": "execute_result"
    }
   ],
   "source": [
    "## Q No. 4 :\n",
    "\"\"\"\n",
    "Feature Selection is the method of reducing the input variable to your model by using only relevant data \n",
    "and getting rid of noise in data. It is the process of automatically choosing relevant features for your \n",
    "machine learning model based on the type of problem you are trying to solve.\n",
    "\"\"\""
   ]
  },
  {
   "cell_type": "code",
   "execution_count": 5,
   "id": "2d559cbb-8436-4de6-a9f4-4ff4a32b40ba",
   "metadata": {},
   "outputs": [
    {
     "data": {
      "text/plain": [
       "'\\nSome limitations and drawbacks of using dimensionality reduction techniques :\\nWe lost some data during the dimensionality reduction process, which can impact how well future training algorithms work.\\nIt may need a lot of processing power.\\nInterpreting transformed characteristics might be challenging.\\nThe independent variables become harder to comprehend as a result.\\n'"
      ]
     },
     "execution_count": 5,
     "metadata": {},
     "output_type": "execute_result"
    }
   ],
   "source": [
    "## Q No. 5 :\n",
    "\"\"\"\n",
    "Some limitations and drawbacks of using dimensionality reduction techniques :\n",
    "We lost some data during the dimensionality reduction process, which can impact how well future training algorithms work.\n",
    "It may need a lot of processing power.\n",
    "Interpreting transformed characteristics might be challenging.\n",
    "The independent variables become harder to comprehend as a result.\n",
    "\"\"\""
   ]
  },
  {
   "cell_type": "code",
   "execution_count": 6,
   "id": "3f56fdcd-4fb3-4677-85c5-3e012cfe1bbd",
   "metadata": {},
   "outputs": [
    {
     "data": {
      "text/plain": [
       "'\\nAs the number of features increase, our data become sparser, which results in overfitting,\\nand we therefore need more data to avoid it.\\n\\nThere is a relationship between ‘d’ and overfitting which is as follows:\\n‘d’ is directly proportional to overfitting i.e. as the dimensionality increases the chances \\nof overfitting also increases.\\n'"
      ]
     },
     "execution_count": 6,
     "metadata": {},
     "output_type": "execute_result"
    }
   ],
   "source": [
    "## Q No. 6 :\n",
    "\"\"\"\n",
    "As the number of features increase, our data become sparser, which results in overfitting,\n",
    "and we therefore need more data to avoid it.\n",
    "\n",
    "There is a relationship between ‘d’ and overfitting which is as follows:\n",
    "‘d’ is directly proportional to overfitting i.e. as the dimensionality increases the chances \n",
    "of overfitting also increases.\n",
    "\"\"\""
   ]
  },
  {
   "cell_type": "code",
   "execution_count": 7,
   "id": "0b77e485-c351-4ae7-b911-c08a6c8e0a4c",
   "metadata": {},
   "outputs": [
    {
     "data": {
      "text/plain": [
       "'\\nEigenvalue Decomposition and Singular Value Decomposition(SVD) from linear algebra \\nare the two main procedures used in PCA to reduce dimensionality\\n'"
      ]
     },
     "execution_count": 7,
     "metadata": {},
     "output_type": "execute_result"
    }
   ],
   "source": [
    "## Q No. 7 :\n",
    "\"\"\"\n",
    "Eigenvalue Decomposition and Singular Value Decomposition(SVD) from linear algebra \n",
    "are the two main procedures used in PCA to reduce dimensionality\n",
    "\"\"\""
   ]
  }
 ],
 "metadata": {
  "kernelspec": {
   "display_name": "Python 3 (ipykernel)",
   "language": "python",
   "name": "python3"
  },
  "language_info": {
   "codemirror_mode": {
    "name": "ipython",
    "version": 3
   },
   "file_extension": ".py",
   "mimetype": "text/x-python",
   "name": "python",
   "nbconvert_exporter": "python",
   "pygments_lexer": "ipython3",
   "version": "3.10.8"
  }
 },
 "nbformat": 4,
 "nbformat_minor": 5
}
